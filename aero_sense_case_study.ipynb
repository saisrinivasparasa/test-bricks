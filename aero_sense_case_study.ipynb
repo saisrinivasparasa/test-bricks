{
 "cells": [
  {
   "cell_type": "code",
   "execution_count": 0,
   "metadata": {
    "application/vnd.databricks.v1+cell": {
     "cellMetadata": {
      "byteLimit": 2048000,
      "rowLimit": 10000
     },
     "inputWidgets": {},
     "nuid": "854dd609-a06d-4a76-9e55-d40bf8ce1be3",
     "showTitle": false,
     "tableResultSettingsMap": {},
     "title": ""
    }
   },
   "outputs": [],
   "source": [
    "from pyspark.sql.types import *\n",
    "\n",
    "schema = StructType([StructField('timestamp', TimestampType(), True), \n",
    "                     StructField('turbine_id', IntegerType(), True),\n",
    "                     StructField('rotor_speed', DoubleType(), True),\n",
    "                     StructField('blade_vibration', DoubleType(), True),\n",
    "                     StructField('gearbox_temp', DoubleType(), True)])\n",
    "\n",
    "\n",
    "aero_space_df = spark.readStream.format('csv').schema(schema).option('maxFilesPerRead', 1).load('/Volumes/workspace/training/training_volume/')\n",
    "\n",
    "# display(aero_space_df, checkpointLocation = '/Volumes/workspace/training/training_volume')"
   ]
  },
  {
   "cell_type": "code",
   "execution_count": 0,
   "metadata": {
    "application/vnd.databricks.v1+cell": {
     "cellMetadata": {
      "byteLimit": 2048000,
      "rowLimit": 10000
     },
     "inputWidgets": {},
     "nuid": "a2399a76-8732-4fe4-9d1f-8bcd47584a95",
     "showTitle": false,
     "tableResultSettingsMap": {},
     "title": ""
    }
   },
   "outputs": [],
   "source": [
    "from pyspark.sql.functions import *\n",
    "from pyspark.sql.types import *\n",
    "from pyspark.sql.window import *\n",
    "\n",
    "aggregated_data = (\n",
    "    aero_space_df.withWatermark(\"timestamp\", \"5 minutes\")\n",
    "    .groupBy(\n",
    "        window(col(\"timestamp\"), \"5 minutes\", \"1 minute\"), 'turbine_id')\n",
    "    .agg(\n",
    "        avg(\"rotor_speed\").alias(\"rotor_speed_avg\"),\n",
    "        avg(\"blade_vibration\").alias(\"blade_vibrations_avg\"),\n",
    "        avg(\"gearbox_temp\").alias(\"gearbox_temp_avg\"),\n",
    "    )\n",
    ")"
   ]
  },
  {
   "cell_type": "code",
   "execution_count": 0,
   "metadata": {
    "application/vnd.databricks.v1+cell": {
     "cellMetadata": {
      "byteLimit": 2048000,
      "rowLimit": 10000
     },
     "inputWidgets": {},
     "nuid": "305fc8f6-5376-4c9f-b2b4-a417732c0d2a",
     "showTitle": false,
     "tableResultSettingsMap": {},
     "title": ""
    }
   },
   "outputs": [],
   "source": [
    "display(aggregated_data, checkpointLocation = '/Volumes/workspace/training/training_volume')"
   ]
  }
 ],
 "metadata": {
  "application/vnd.databricks.v1+notebook": {
   "computePreferences": null,
   "dashboards": [],
   "environmentMetadata": {
    "base_environment": "",
    "environment_version": "4"
   },
   "inputWidgetPreferences": null,
   "language": "python",
   "notebookMetadata": {
    "pythonIndentUnit": 4
   },
   "notebookName": "aero_sense_case_study",
   "widgets": {}
  },
  "language_info": {
   "name": "python"
  }
 },
 "nbformat": 4,
 "nbformat_minor": 0
}
