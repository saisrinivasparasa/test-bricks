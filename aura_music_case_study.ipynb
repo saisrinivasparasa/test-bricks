{
 "cells": [
  {
   "cell_type": "code",
   "execution_count": 0,
   "metadata": {
    "application/vnd.databricks.v1+cell": {
     "cellMetadata": {},
     "inputWidgets": {},
     "nuid": "4ae404f8-c848-4c85-a8f7-7182e111dea6",
     "showTitle": false,
     "tableResultSettingsMap": {},
     "title": ""
    }
   },
   "outputs": [],
   "source": [
    "# Read a single json file from a path\n",
    "# Flatten the json file into dataframe\n",
    "# Create a batch streaming auto loader bronze table using the dataframe"
   ]
  },
  {
   "cell_type": "code",
   "execution_count": 0,
   "metadata": {
    "application/vnd.databricks.v1+cell": {
     "cellMetadata": {
      "byteLimit": 2048000,
      "implicitDf": true,
      "rowLimit": 10000
     },
     "inputWidgets": {},
     "nuid": "ec1dcdee-eb66-4162-9352-589fde70c0dc",
     "showTitle": false,
     "tableResultSettingsMap": {},
     "title": ""
    }
   },
   "outputs": [],
   "source": [
    "%sql\n",
    "drop table workspace.training.song_details_brnz"
   ]
  },
  {
   "cell_type": "code",
   "execution_count": 0,
   "metadata": {
    "application/vnd.databricks.v1+cell": {
     "cellMetadata": {
      "byteLimit": 2048000,
      "rowLimit": 10000
     },
     "inputWidgets": {},
     "nuid": "9da2c129-5803-4a91-b300-bd4f80fcdf4b",
     "showTitle": false,
     "tableResultSettingsMap": {},
     "title": ""
    }
   },
   "outputs": [],
   "source": [
    "# song_details_df = spark.read.format('json').option(\"inferSchema\", True).option(\"rescuedDataColumn\", '_rescued_data').option(\"multiline\", True).load('/Volumes/workspace/training/training_volume/music-data/music stream 1.json')\n",
    "from pyspark.sql.types import *\n",
    "\n",
    "base_song_details_schema = StructType(\n",
    "    [\n",
    "        StructField(\"user_id\", StringType(), False),\n",
    "        StructField(\"artist_name\", StringType(), False),\n",
    "        StructField(\"song_title\", StringType(), False),\n",
    "        StructField(\"timestamp\", DateType(), False),\n",
    "        StructField(\"session_id\", IntegerType(), False),\n",
    "        StructField(\"device_type\", StringType(), False),\n",
    "    ]\n",
    ")\n",
    "\n",
    "\n",
    "song_details_df = (\n",
    "    spark.readStream.format(\"json\")\n",
    "    .option(\"inferSchema\", True)\n",
    "    .option(\"rescuedDataColumn\", \"_rescued_data\")\n",
    "    .option(\"multiline\", True)\n",
    "    .option(\"schemaEvolution\", True)\n",
    "    .schema(base_song_details_schema)\n",
    "    .load(\"/Volumes/workspace/training/training_volume/music-data/\")\n",
    ")\n",
    "\n",
    "\n",
    "song_details_df.writeStream.format(\"delta\").option(\"mergeSchema\", True).option(\n",
    "    \"checkpointLocation\", \"/Volumes/workspace/training/training_volume/music-data/\"\n",
    ").trigger(once=True).toTable(\"workspace.training.song_details_brnz\")"
   ]
  },
  {
   "cell_type": "code",
   "execution_count": 0,
   "metadata": {
    "application/vnd.databricks.v1+cell": {
     "cellMetadata": {
      "byteLimit": 2048000,
      "implicitDf": true,
      "rowLimit": 10000
     },
     "inputWidgets": {},
     "nuid": "2f0c5286-0fd5-42ad-a886-fb6718c2d053",
     "showTitle": false,
     "tableResultSettingsMap": {},
     "title": ""
    }
   },
   "outputs": [],
   "source": [
    "%sql\n",
    "DESCRIBE HISTORY workspace.training.song_details_brnz"
   ]
  },
  {
   "cell_type": "code",
   "execution_count": 0,
   "metadata": {
    "application/vnd.databricks.v1+cell": {
     "cellMetadata": {
      "byteLimit": 2048000,
      "implicitDf": true,
      "rowLimit": 10000
     },
     "inputWidgets": {},
     "nuid": "467df62b-d9bd-4f63-8b30-04512a8ca115",
     "showTitle": false,
     "tableResultSettingsMap": {},
     "title": ""
    }
   },
   "outputs": [],
   "source": [
    "%sql\n",
    "SELECT * FROM workspace.training.song_details_brnz"
   ]
  }
 ],
 "metadata": {
  "application/vnd.databricks.v1+notebook": {
   "computePreferences": null,
   "dashboards": [],
   "environmentMetadata": {
    "base_environment": "",
    "environment_version": "3"
   },
   "inputWidgetPreferences": null,
   "language": "python",
   "notebookMetadata": {
    "mostRecentlyExecutedCommandWithImplicitDF": {
     "commandId": 8292848402792104,
     "dataframes": [
      "_sqldf"
     ]
    },
    "pythonIndentUnit": 4
   },
   "notebookName": "aura_music_case_study",
   "widgets": {}
  },
  "language_info": {
   "name": "python"
  }
 },
 "nbformat": 4,
 "nbformat_minor": 0
}
